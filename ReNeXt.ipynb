{
  "nbformat": 4,
  "nbformat_minor": 0,
  "metadata": {
    "colab": {
      "provenance": [],
      "authorship_tag": "ABX9TyPKKiYFE3mbJrnC808Vtkpg",
      "include_colab_link": true
    },
    "kernelspec": {
      "name": "python3",
      "display_name": "Python 3"
    },
    "language_info": {
      "name": "python"
    },
    "accelerator": "GPU",
    "gpuClass": "standard"
  },
  "cells": [
    {
      "cell_type": "markdown",
      "metadata": {
        "id": "view-in-github",
        "colab_type": "text"
      },
      "source": [
        "<a href=\"https://colab.research.google.com/github/CHENHUI-X/ResNeXt_pytorch/blob/master/ReNeXt.ipynb\" target=\"_parent\"><img src=\"https://colab.research.google.com/assets/colab-badge.svg\" alt=\"Open In Colab\"/></a>"
      ]
    },
    {
      "cell_type": "markdown",
      "source": [
        "# Train the model "
      ],
      "metadata": {
        "id": "dxDhvRW0lqEY"
      }
    },
    {
      "cell_type": "markdown",
      "source": [
        "### See train.py parameters for details "
      ],
      "metadata": {
        "id": "H-6zLSBylwa6"
      }
    },
    {
      "cell_type": "code",
      "source": [
        "import os\n",
        "if os.path.exists('./ResNeXt_pytorch'):\n",
        "  !rm -rf ./ResNeXt_pytorch\n",
        "\n",
        "!git clone https://github.com/CHENHUI-X/ResNeXt_pytorch.git\n"
      ],
      "metadata": {
        "colab": {
          "base_uri": "https://localhost:8080/"
        },
        "id": "xPH7e9eDlBLP",
        "outputId": "16926fe9-1fb2-4c4d-8732-918b31b83b58"
      },
      "execution_count": null,
      "outputs": [
        {
          "output_type": "stream",
          "name": "stdout",
          "text": [
            "Cloning into 'ResNeXt_pytorch'...\n",
            "remote: Enumerating objects: 199, done.\u001b[K\n",
            "remote: Counting objects: 100% (87/87), done.\u001b[K\n",
            "remote: Compressing objects: 100% (24/24), done.\u001b[K\n",
            "remote: Total 199 (delta 73), reused 71 (delta 62), pack-reused 112\u001b[K\n",
            "Receiving objects: 100% (199/199), 159.33 KiB | 11.38 MiB/s, done.\n",
            "Resolving deltas: 100% (101/101), done.\n"
          ]
        }
      ]
    },
    {
      "cell_type": "code",
      "source": [
        "!python ResNeXt_pytorch/train.py ./cifar10 cifar10 --epochs 10 --ngpu 1 --batch_size 64"
      ],
      "metadata": {
        "colab": {
          "base_uri": "https://localhost:8080/"
        },
        "id": "exgDhlJPmrms",
        "outputId": "961ecdf2-7987-41d9-9d0e-fe0242ce974a"
      },
      "execution_count": null,
      "outputs": [
        {
          "output_type": "stream",
          "name": "stdout",
          "text": [
            "Saved args parameters !\n",
            "Files already downloaded and verified\n",
            "Files already downloaded and verified\n",
            "/content/ResNeXt_pytorch/models/model.py:103: UserWarning: nn.init.kaiming_normal is now deprecated in favor of nn.init.kaiming_normal_.\n",
            "  init.kaiming_normal(self.classifier.weight)\n",
            "/content/ResNeXt_pytorch/models/model.py:108: UserWarning: nn.init.kaiming_normal is now deprecated in favor of nn.init.kaiming_normal_.\n",
            "  init.kaiming_normal(self.state_dict()[key], mode='fan_out')\n",
            "----------------------------------------------------------------\n",
            "        Layer (type)               Output Shape         Param #\n",
            "================================================================\n",
            "            Conv2d-1          [64, 128, 32, 32]           8,192\n",
            "       BatchNorm2d-2          [64, 128, 32, 32]             256\n",
            " ResNeXtBottleneck-3          [64, 128, 32, 32]               0\n",
            " ResNeXtBottleneck-4          [64, 128, 32, 32]               0\n",
            " ResNeXtBottleneck-5          [64, 128, 32, 32]               0\n",
            "            Conv2d-6          [64, 256, 16, 16]          32,768\n",
            "       BatchNorm2d-7          [64, 256, 16, 16]             512\n",
            " ResNeXtBottleneck-8          [64, 256, 16, 16]               0\n",
            " ResNeXtBottleneck-9          [64, 256, 16, 16]               0\n",
            "ResNeXtBottleneck-10          [64, 256, 16, 16]               0\n",
            "           Conv2d-11            [64, 512, 8, 8]         131,072\n",
            "      BatchNorm2d-12            [64, 512, 8, 8]           1,024\n",
            "ResNeXtBottleneck-13            [64, 512, 8, 8]               0\n",
            "ResNeXtBottleneck-14            [64, 512, 8, 8]               0\n",
            "ResNeXtBottleneck-15            [64, 512, 8, 8]               0\n",
            "           Linear-16                   [64, 10]           5,130\n",
            "================================================================\n",
            "Total params: 178,954\n",
            "Trainable params: 178,954\n",
            "Non-trainable params: 0\n",
            "----------------------------------------------------------------\n",
            "Input size (MB): 0.75\n",
            "Forward/backward pass size (MB): 560.00\n",
            "Params size (MB): 0.68\n",
            "Estimated Total Size (MB): 561.44\n",
            "----------------------------------------------------------------\n",
            " 13% 100/782 [03:09<21:34,  1.90s/it]\n",
            "Traceback (most recent call last):\n",
            "  File \"ResNeXt_pytorch/train.py\", line 191, in <module>\n",
            "    train(net,train_loader,optimizer,state,epoch,args)\n",
            "  File \"ResNeXt_pytorch/train.py\", line 83, in train\n",
            "    loss_avg = loss_avg * 0.2 + float(loss) * 0.8\n",
            "KeyboardInterrupt\n"
          ]
        }
      ]
    }
  ]
}